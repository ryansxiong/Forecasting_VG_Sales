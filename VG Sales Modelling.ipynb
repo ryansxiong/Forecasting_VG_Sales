{
 "cells": [
  {
   "cell_type": "code",
   "execution_count": 97,
   "id": "3d1b57e5",
   "metadata": {},
   "outputs": [],
   "source": [
    "import pandas as pd"
   ]
  },
  {
   "cell_type": "code",
   "execution_count": 98,
   "id": "655eaaa4",
   "metadata": {},
   "outputs": [],
   "source": [
    "df = pd.read_csv('vg_sales_v2.csv')"
   ]
  },
  {
   "cell_type": "code",
   "execution_count": null,
   "id": "9eeae2e6",
   "metadata": {},
   "outputs": [],
   "source": [
    "# Resources for ML codes\n",
    "    https://www.kaggle.com/serigne/stacked-regressions-top-4-on-leaderboard/notebook\n",
    "# check scatter plot for outliers\n",
    "# Find ratio of missing values in dataset\n",
    "# Get rid of null Values\n",
    "# delete unwanted columns\n",
    "# find correlations using heat map\n",
    "# get dummy variables\n",
    "# Transforming target data to make it more distributed if needed\n",
    "# decide my variables\n",
    "# find appropriate models to use\n",
    "# testing models\n",
    "# tweak models"
   ]
  },
  {
   "cell_type": "code",
   "execution_count": 99,
   "id": "cb5c16bd",
   "metadata": {
    "scrolled": false
   },
   "outputs": [
    {
     "data": {
      "text/plain": [
       "Electronic Arts                 1356\n",
       "Activision                       985\n",
       "Namco Bandai Games               939\n",
       "Ubisoft                          933\n",
       "Konami Digital Entertainment     834\n",
       "                                ... \n",
       "Valve                              1\n",
       "ITT Family Games                   1\n",
       "Elite                              1\n",
       "Evolution Games                    1\n",
       "Red Flagship                       1\n",
       "Name: Publisher, Length: 581, dtype: int64"
      ]
     },
     "execution_count": 99,
     "metadata": {},
     "output_type": "execute_result"
    }
   ],
   "source": [
    "df['Publisher'].value_counts()"
   ]
  },
  {
   "cell_type": "code",
   "execution_count": 100,
   "id": "082b7c1e",
   "metadata": {},
   "outputs": [],
   "source": [
    "# drop developer column since it is the same as publisher\n",
    "df = df.drop(columns = ['Developer'])\n"
   ]
  },
  {
   "cell_type": "code",
   "execution_count": 67,
   "id": "f3be84e8",
   "metadata": {},
   "outputs": [
    {
     "data": {
      "text/html": [
       "<div>\n",
       "<style scoped>\n",
       "    .dataframe tbody tr th:only-of-type {\n",
       "        vertical-align: middle;\n",
       "    }\n",
       "\n",
       "    .dataframe tbody tr th {\n",
       "        vertical-align: top;\n",
       "    }\n",
       "\n",
       "    .dataframe thead th {\n",
       "        text-align: right;\n",
       "    }\n",
       "</style>\n",
       "<table border=\"1\" class=\"dataframe\">\n",
       "  <thead>\n",
       "    <tr style=\"text-align: right;\">\n",
       "      <th></th>\n",
       "      <th>Name</th>\n",
       "      <th>Platform</th>\n",
       "      <th>Year_of_Release</th>\n",
       "      <th>Genre</th>\n",
       "      <th>Publisher</th>\n",
       "      <th>NA_Sales</th>\n",
       "      <th>EU_Sales</th>\n",
       "      <th>JP_Sales</th>\n",
       "      <th>Other_Sales</th>\n",
       "      <th>Global_Sales</th>\n",
       "      <th>Critic_Score</th>\n",
       "      <th>Critic_Count</th>\n",
       "      <th>User_Score</th>\n",
       "      <th>User_Count</th>\n",
       "      <th>Rating</th>\n",
       "    </tr>\n",
       "  </thead>\n",
       "  <tbody>\n",
       "    <tr>\n",
       "      <th>0</th>\n",
       "      <td>Wii Sports</td>\n",
       "      <td>Wii</td>\n",
       "      <td>2006.0</td>\n",
       "      <td>Sports</td>\n",
       "      <td>Nintendo</td>\n",
       "      <td>41.36</td>\n",
       "      <td>28.96</td>\n",
       "      <td>3.77</td>\n",
       "      <td>8.45</td>\n",
       "      <td>82.53</td>\n",
       "      <td>76.0</td>\n",
       "      <td>51.0</td>\n",
       "      <td>8</td>\n",
       "      <td>322.0</td>\n",
       "      <td>E</td>\n",
       "    </tr>\n",
       "    <tr>\n",
       "      <th>1</th>\n",
       "      <td>Super Mario Bros.</td>\n",
       "      <td>NES</td>\n",
       "      <td>1985.0</td>\n",
       "      <td>Platform</td>\n",
       "      <td>Nintendo</td>\n",
       "      <td>29.08</td>\n",
       "      <td>3.58</td>\n",
       "      <td>6.81</td>\n",
       "      <td>0.77</td>\n",
       "      <td>40.24</td>\n",
       "      <td>NaN</td>\n",
       "      <td>NaN</td>\n",
       "      <td>NaN</td>\n",
       "      <td>NaN</td>\n",
       "      <td>NaN</td>\n",
       "    </tr>\n",
       "    <tr>\n",
       "      <th>2</th>\n",
       "      <td>Mario Kart Wii</td>\n",
       "      <td>Wii</td>\n",
       "      <td>2008.0</td>\n",
       "      <td>Racing</td>\n",
       "      <td>Nintendo</td>\n",
       "      <td>15.68</td>\n",
       "      <td>12.76</td>\n",
       "      <td>3.79</td>\n",
       "      <td>3.29</td>\n",
       "      <td>35.52</td>\n",
       "      <td>82.0</td>\n",
       "      <td>73.0</td>\n",
       "      <td>8.3</td>\n",
       "      <td>709.0</td>\n",
       "      <td>E</td>\n",
       "    </tr>\n",
       "    <tr>\n",
       "      <th>3</th>\n",
       "      <td>Wii Sports Resort</td>\n",
       "      <td>Wii</td>\n",
       "      <td>2009.0</td>\n",
       "      <td>Sports</td>\n",
       "      <td>Nintendo</td>\n",
       "      <td>15.61</td>\n",
       "      <td>10.93</td>\n",
       "      <td>3.28</td>\n",
       "      <td>2.95</td>\n",
       "      <td>32.77</td>\n",
       "      <td>80.0</td>\n",
       "      <td>73.0</td>\n",
       "      <td>8</td>\n",
       "      <td>192.0</td>\n",
       "      <td>E</td>\n",
       "    </tr>\n",
       "    <tr>\n",
       "      <th>4</th>\n",
       "      <td>Pokemon Red/Pokemon Blue</td>\n",
       "      <td>GB</td>\n",
       "      <td>1996.0</td>\n",
       "      <td>Role-Playing</td>\n",
       "      <td>Nintendo</td>\n",
       "      <td>11.27</td>\n",
       "      <td>8.89</td>\n",
       "      <td>10.22</td>\n",
       "      <td>1.00</td>\n",
       "      <td>31.37</td>\n",
       "      <td>NaN</td>\n",
       "      <td>NaN</td>\n",
       "      <td>NaN</td>\n",
       "      <td>NaN</td>\n",
       "      <td>NaN</td>\n",
       "    </tr>\n",
       "  </tbody>\n",
       "</table>\n",
       "</div>"
      ],
      "text/plain": [
       "                       Name Platform  Year_of_Release         Genre Publisher  \\\n",
       "0                Wii Sports      Wii           2006.0        Sports  Nintendo   \n",
       "1         Super Mario Bros.      NES           1985.0      Platform  Nintendo   \n",
       "2            Mario Kart Wii      Wii           2008.0        Racing  Nintendo   \n",
       "3         Wii Sports Resort      Wii           2009.0        Sports  Nintendo   \n",
       "4  Pokemon Red/Pokemon Blue       GB           1996.0  Role-Playing  Nintendo   \n",
       "\n",
       "   NA_Sales  EU_Sales  JP_Sales  Other_Sales  Global_Sales  Critic_Score  \\\n",
       "0     41.36     28.96      3.77         8.45         82.53          76.0   \n",
       "1     29.08      3.58      6.81         0.77         40.24           NaN   \n",
       "2     15.68     12.76      3.79         3.29         35.52          82.0   \n",
       "3     15.61     10.93      3.28         2.95         32.77          80.0   \n",
       "4     11.27      8.89     10.22         1.00         31.37           NaN   \n",
       "\n",
       "   Critic_Count User_Score  User_Count Rating  \n",
       "0          51.0          8       322.0      E  \n",
       "1           NaN        NaN         NaN    NaN  \n",
       "2          73.0        8.3       709.0      E  \n",
       "3          73.0          8       192.0      E  \n",
       "4           NaN        NaN         NaN    NaN  "
      ]
     },
     "execution_count": 67,
     "metadata": {},
     "output_type": "execute_result"
    }
   ],
   "source": [
    "df.head()"
   ]
  },
  {
   "cell_type": "code",
   "execution_count": 68,
   "id": "8f8ca4c0",
   "metadata": {},
   "outputs": [
    {
     "data": {
      "text/plain": [
       "(16719, 15)"
      ]
     },
     "execution_count": 68,
     "metadata": {},
     "output_type": "execute_result"
    }
   ],
   "source": [
    "df.shape"
   ]
  },
  {
   "cell_type": "code",
   "execution_count": 101,
   "id": "e03e0441",
   "metadata": {},
   "outputs": [
    {
     "data": {
      "text/plain": [
       "<AxesSubplot:xlabel='Critic_Score', ylabel='Global_Sales'>"
      ]
     },
     "execution_count": 101,
     "metadata": {},
     "output_type": "execute_result"
    },
    {
     "data": {
      "image/png": "[encoded data removed]",
      "text/plain": [
       "<Figure size 936x432 with 1 Axes>"
      ]
     },
     "metadata": {},
     "output_type": "display_data"
    }
   ],
   "source": [
    "# scatter plot (looking for outliers)\n",
    "df.plot.scatter(x='Critic_Score', y='Global_Sales', c='DarkBlue')"
   ]
  },
  {
   "cell_type": "code",
   "execution_count": 102,
   "id": "ba1fc26a",
   "metadata": {},
   "outputs": [],
   "source": [
    "# dropped the outlier\n",
    "df['Global_Sales'].max()\n",
    "df = df.drop([0])"
   ]
  },
  {
   "cell_type": "code",
   "execution_count": 103,
   "id": "ea01307b",
   "metadata": {},
   "outputs": [
    {
     "data": {
      "text/plain": [
       "<AxesSubplot:xlabel='Critic_Score', ylabel='Global_Sales'>"
      ]
     },
     "execution_count": 103,
     "metadata": {},
     "output_type": "execute_result"
    },
    {
     "data": {
      "image/png": "[encoded data removed]",
      "text/plain": [
       "<Figure size 936x432 with 1 Axes>"
      ]
     },
     "metadata": {},
     "output_type": "display_data"
    }
   ],
   "source": [
    "# scatter plot without outlier\n",
    "df.plot.scatter(x='Critic_Score', y='Global_Sales', c='DarkBlue')"
   ]
  },
  {
   "cell_type": "code",
   "execution_count": 85,
   "id": "cf6304f7",
   "metadata": {},
   "outputs": [
    {
     "name": "stdout",
     "output_type": "stream",
     "text": [
      "\n",
      " mu = 0.53 and sigma = 1.41\n",
      "\n"
     ]
    },
    {
     "data": {
      "image/png": "[encoded data removed]",
      "text/plain": [
       "<Figure size 936x432 with 1 Axes>"
      ]
     },
     "metadata": {},
     "output_type": "display_data"
    },
    {
     "data": {
      "image/png": "[encoded data removed]",
      "text/plain": [
       "<Figure size 936x432 with 1 Axes>"
      ]
     },
     "metadata": {},
     "output_type": "display_data"
    }
   ],
   "source": [
    "# code from source\n",
    "import matplotlib.pyplot as plt  # Matlab-style plotting\n",
    "import warnings\n",
    "def ignore_warn(*args, **kwargs):\n",
    "    pass\n",
    "warnings.warn = ignore_warn #ignore annoying warning (from sklearn and seaborn)\n",
    "from scipy import stats\n",
    "from scipy.stats import norm, skew #for some statistics\n",
    "import seaborn as sns\n",
    "color = sns.color_palette()\n",
    "sns.set_style('darkgrid')\n",
    "\n",
    "sns.distplot(df['Global_Sales'] , fit=norm);\n",
    "\n",
    "# Get the fitted parameters used by the function\n",
    "(mu, sigma) = norm.fit(df['Global_Sales'])\n",
    "print( '\\n mu = {:.2f} and sigma = {:.2f}\\n'.format(mu, sigma))\n",
    "\n",
    "#Now plot the distribution\n",
    "plt.legend(['Normal dist. ($\\mu=$ {:.2f} and $\\sigma=$ {:.2f} )'.format(mu, sigma)],\n",
    "            loc='best')\n",
    "plt.ylabel('Frequency')\n",
    "plt.title('GlobalSales distribution')\n",
    "sns.set(rc = {'figure.figsize':(13,6)})\n",
    "\n",
    "\n",
    "#Get also the QQ-plot\n",
    "fig = plt.figure()\n",
    "res = stats.probplot(df['Global_Sales'], plot=plt)\n",
    "plt.show()"
   ]
  },
  {
   "cell_type": "code",
   "execution_count": 104,
   "id": "449da0fe",
   "metadata": {
    "scrolled": false
   },
   "outputs": [
    {
     "data": {
      "text/plain": [
       "<AxesSubplot:xlabel='Global_Sales'>"
      ]
     },
     "execution_count": 104,
     "metadata": {},
     "output_type": "execute_result"
    },
    {
     "data": {
      "image/png": "[encoded data removed]",
      "text/plain": [
       "<Figure size 936x432 with 1 Axes>"
      ]
     },
     "metadata": {},
     "output_type": "display_data"
    }
   ],
   "source": [
    "sns.boxplot(df.Global_Sales)"
   ]
  },
  {
   "cell_type": "code",
   "execution_count": 105,
   "id": "1954969f",
   "metadata": {},
   "outputs": [
    {
     "data": {
      "text/plain": [
       "(16718, 15)"
      ]
     },
     "execution_count": 105,
     "metadata": {},
     "output_type": "execute_result"
    }
   ],
   "source": [
    "df.shape"
   ]
  },
  {
   "cell_type": "code",
   "execution_count": 92,
   "id": "00cfcc02",
   "metadata": {},
   "outputs": [
    {
     "data": {
      "text/html": [
       "<div>\n",
       "<style scoped>\n",
       "    .dataframe tbody tr th:only-of-type {\n",
       "        vertical-align: middle;\n",
       "    }\n",
       "\n",
       "    .dataframe tbody tr th {\n",
       "        vertical-align: top;\n",
       "    }\n",
       "\n",
       "    .dataframe thead th {\n",
       "        text-align: right;\n",
       "    }\n",
       "</style>\n",
       "<table border=\"1\" class=\"dataframe\">\n",
       "  <thead>\n",
       "    <tr style=\"text-align: right;\">\n",
       "      <th></th>\n",
       "      <th>Missing Ratio</th>\n",
       "    </tr>\n",
       "  </thead>\n",
       "  <tbody>\n",
       "    <tr>\n",
       "      <th>User_Count</th>\n",
       "      <td>54.605814</td>\n",
       "    </tr>\n",
       "    <tr>\n",
       "      <th>Critic_Score</th>\n",
       "      <td>51.333892</td>\n",
       "    </tr>\n",
       "    <tr>\n",
       "      <th>Critic_Count</th>\n",
       "      <td>51.333892</td>\n",
       "    </tr>\n",
       "    <tr>\n",
       "      <th>Rating</th>\n",
       "      <td>40.489293</td>\n",
       "    </tr>\n",
       "    <tr>\n",
       "      <th>User_Score</th>\n",
       "      <td>40.100490</td>\n",
       "    </tr>\n",
       "    <tr>\n",
       "      <th>Year_of_Release</th>\n",
       "      <td>1.609044</td>\n",
       "    </tr>\n",
       "    <tr>\n",
       "      <th>Publisher</th>\n",
       "      <td>0.323005</td>\n",
       "    </tr>\n",
       "    <tr>\n",
       "      <th>Name</th>\n",
       "      <td>0.011963</td>\n",
       "    </tr>\n",
       "    <tr>\n",
       "      <th>Genre</th>\n",
       "      <td>0.011963</td>\n",
       "    </tr>\n",
       "  </tbody>\n",
       "</table>\n",
       "</div>"
      ],
      "text/plain": [
       "                 Missing Ratio\n",
       "User_Count           54.605814\n",
       "Critic_Score         51.333892\n",
       "Critic_Count         51.333892\n",
       "Rating               40.489293\n",
       "User_Score           40.100490\n",
       "Year_of_Release       1.609044\n",
       "Publisher             0.323005\n",
       "Name                  0.011963\n",
       "Genre                 0.011963"
      ]
     },
     "execution_count": 92,
     "metadata": {},
     "output_type": "execute_result"
    }
   ],
   "source": [
    "# Find ratio of missing values in dataset\n",
    "count = (df.isnull().sum() / len(df)) * 100\n",
    "count = count.drop(count[count == 0].index).sort_values(ascending=False)[:30]\n",
    "missing_data = pd.DataFrame({'Missing Ratio' :count})\n",
    "missing_data.head(20)"
   ]
  },
  {
   "cell_type": "code",
   "execution_count": 190,
   "id": "3aded088",
   "metadata": {},
   "outputs": [
    {
     "data": {
      "text/html": [
       "<div>\n",
       "<style scoped>\n",
       "    .dataframe tbody tr th:only-of-type {\n",
       "        vertical-align: middle;\n",
       "    }\n",
       "\n",
       "    .dataframe tbody tr th {\n",
       "        vertical-align: top;\n",
       "    }\n",
       "\n",
       "    .dataframe thead th {\n",
       "        text-align: right;\n",
       "    }\n",
       "</style>\n",
       "<table border=\"1\" class=\"dataframe\">\n",
       "  <thead>\n",
       "    <tr style=\"text-align: right;\">\n",
       "      <th></th>\n",
       "      <th>Name</th>\n",
       "      <th>Platform</th>\n",
       "      <th>Year_of_Release</th>\n",
       "      <th>Genre</th>\n",
       "      <th>Publisher</th>\n",
       "      <th>NA_Sales</th>\n",
       "      <th>EU_Sales</th>\n",
       "      <th>JP_Sales</th>\n",
       "      <th>Other_Sales</th>\n",
       "      <th>Global_Sales</th>\n",
       "      <th>Critic_Score</th>\n",
       "      <th>Critic_Count</th>\n",
       "      <th>User_Score</th>\n",
       "      <th>User_Count</th>\n",
       "      <th>Rating</th>\n",
       "    </tr>\n",
       "  </thead>\n",
       "  <tbody>\n",
       "    <tr>\n",
       "      <th>2</th>\n",
       "      <td>Mario Kart Wii</td>\n",
       "      <td>Wii</td>\n",
       "      <td>2008.0</td>\n",
       "      <td>Racing</td>\n",
       "      <td>Nintendo</td>\n",
       "      <td>15.68</td>\n",
       "      <td>12.76</td>\n",
       "      <td>3.79</td>\n",
       "      <td>3.29</td>\n",
       "      <td>35.52</td>\n",
       "      <td>82.0</td>\n",
       "      <td>73.0</td>\n",
       "      <td>8.3</td>\n",
       "      <td>709.0</td>\n",
       "      <td>E</td>\n",
       "    </tr>\n",
       "    <tr>\n",
       "      <th>3</th>\n",
       "      <td>Wii Sports Resort</td>\n",
       "      <td>Wii</td>\n",
       "      <td>2009.0</td>\n",
       "      <td>Sports</td>\n",
       "      <td>Nintendo</td>\n",
       "      <td>15.61</td>\n",
       "      <td>10.93</td>\n",
       "      <td>3.28</td>\n",
       "      <td>2.95</td>\n",
       "      <td>32.77</td>\n",
       "      <td>80.0</td>\n",
       "      <td>73.0</td>\n",
       "      <td>8</td>\n",
       "      <td>192.0</td>\n",
       "      <td>E</td>\n",
       "    </tr>\n",
       "    <tr>\n",
       "      <th>6</th>\n",
       "      <td>New Super Mario Bros.</td>\n",
       "      <td>DS</td>\n",
       "      <td>2006.0</td>\n",
       "      <td>Platform</td>\n",
       "      <td>Nintendo</td>\n",
       "      <td>11.28</td>\n",
       "      <td>9.14</td>\n",
       "      <td>6.50</td>\n",
       "      <td>2.88</td>\n",
       "      <td>29.80</td>\n",
       "      <td>89.0</td>\n",
       "      <td>65.0</td>\n",
       "      <td>8.5</td>\n",
       "      <td>431.0</td>\n",
       "      <td>E</td>\n",
       "    </tr>\n",
       "    <tr>\n",
       "      <th>7</th>\n",
       "      <td>Wii Play</td>\n",
       "      <td>Wii</td>\n",
       "      <td>2006.0</td>\n",
       "      <td>Misc</td>\n",
       "      <td>Nintendo</td>\n",
       "      <td>13.96</td>\n",
       "      <td>9.18</td>\n",
       "      <td>2.93</td>\n",
       "      <td>2.84</td>\n",
       "      <td>28.92</td>\n",
       "      <td>58.0</td>\n",
       "      <td>41.0</td>\n",
       "      <td>6.6</td>\n",
       "      <td>129.0</td>\n",
       "      <td>E</td>\n",
       "    </tr>\n",
       "    <tr>\n",
       "      <th>8</th>\n",
       "      <td>New Super Mario Bros. Wii</td>\n",
       "      <td>Wii</td>\n",
       "      <td>2009.0</td>\n",
       "      <td>Platform</td>\n",
       "      <td>Nintendo</td>\n",
       "      <td>14.44</td>\n",
       "      <td>6.94</td>\n",
       "      <td>4.70</td>\n",
       "      <td>2.24</td>\n",
       "      <td>28.32</td>\n",
       "      <td>87.0</td>\n",
       "      <td>80.0</td>\n",
       "      <td>8.4</td>\n",
       "      <td>594.0</td>\n",
       "      <td>E</td>\n",
       "    </tr>\n",
       "  </tbody>\n",
       "</table>\n",
       "</div>"
      ],
      "text/plain": [
       "                        Name Platform  Year_of_Release     Genre Publisher  \\\n",
       "2             Mario Kart Wii      Wii           2008.0    Racing  Nintendo   \n",
       "3          Wii Sports Resort      Wii           2009.0    Sports  Nintendo   \n",
       "6      New Super Mario Bros.       DS           2006.0  Platform  Nintendo   \n",
       "7                   Wii Play      Wii           2006.0      Misc  Nintendo   \n",
       "8  New Super Mario Bros. Wii      Wii           2009.0  Platform  Nintendo   \n",
       "\n",
       "   NA_Sales  EU_Sales  JP_Sales  Other_Sales  Global_Sales  Critic_Score  \\\n",
       "2     15.68     12.76      3.79         3.29         35.52          82.0   \n",
       "3     15.61     10.93      3.28         2.95         32.77          80.0   \n",
       "6     11.28      9.14      6.50         2.88         29.80          89.0   \n",
       "7     13.96      9.18      2.93         2.84         28.92          58.0   \n",
       "8     14.44      6.94      4.70         2.24         28.32          87.0   \n",
       "\n",
       "   Critic_Count User_Score  User_Count Rating  \n",
       "2          73.0        8.3       709.0      E  \n",
       "3          73.0          8       192.0      E  \n",
       "6          65.0        8.5       431.0      E  \n",
       "7          41.0        6.6       129.0      E  \n",
       "8          80.0        8.4       594.0      E  "
      ]
     },
     "execution_count": 190,
     "metadata": {},
     "output_type": "execute_result"
    }
   ],
   "source": [
    "# cleaning up missing values for dataset (only used data from the year 2000 to current)\n",
    "year = df[df['Year_of_Release'] >= 2000.0]\n",
    "year.head()"
   ]
  },
  {
   "cell_type": "code",
   "execution_count": 191,
   "id": "f9ce6ea4",
   "metadata": {},
   "outputs": [
    {
     "data": {
      "text/html": [
       "<div>\n",
       "<style scoped>\n",
       "    .dataframe tbody tr th:only-of-type {\n",
       "        vertical-align: middle;\n",
       "    }\n",
       "\n",
       "    .dataframe tbody tr th {\n",
       "        vertical-align: top;\n",
       "    }\n",
       "\n",
       "    .dataframe thead th {\n",
       "        text-align: right;\n",
       "    }\n",
       "</style>\n",
       "<table border=\"1\" class=\"dataframe\">\n",
       "  <thead>\n",
       "    <tr style=\"text-align: right;\">\n",
       "      <th></th>\n",
       "      <th>Missing Ratio</th>\n",
       "    </tr>\n",
       "  </thead>\n",
       "  <tbody>\n",
       "    <tr>\n",
       "      <th>User_Count</th>\n",
       "      <td>42.487140</td>\n",
       "    </tr>\n",
       "    <tr>\n",
       "      <th>Critic_Score</th>\n",
       "      <td>39.400646</td>\n",
       "    </tr>\n",
       "    <tr>\n",
       "      <th>Critic_Count</th>\n",
       "      <td>39.400646</td>\n",
       "    </tr>\n",
       "    <tr>\n",
       "      <th>Rating</th>\n",
       "      <td>28.771384</td>\n",
       "    </tr>\n",
       "    <tr>\n",
       "      <th>User_Score</th>\n",
       "      <td>28.322766</td>\n",
       "    </tr>\n",
       "    <tr>\n",
       "      <th>Publisher</th>\n",
       "      <td>0.191410</td>\n",
       "    </tr>\n",
       "  </tbody>\n",
       "</table>\n",
       "</div>"
      ],
      "text/plain": [
       "              Missing Ratio\n",
       "User_Count        42.487140\n",
       "Critic_Score      39.400646\n",
       "Critic_Count      39.400646\n",
       "Rating            28.771384\n",
       "User_Score        28.322766\n",
       "Publisher          0.191410"
      ]
     },
     "execution_count": 191,
     "metadata": {},
     "output_type": "execute_result"
    }
   ],
   "source": [
    "count = (year.isnull().sum() / len(df)) * 100\n",
    "count = count.drop(count[count == 0].index).sort_values(ascending=False)[:30]\n",
    "missing_data = pd.DataFrame({'Missing Ratio' :count})\n",
    "missing_data.head(20)"
   ]
  },
  {
   "cell_type": "code",
   "execution_count": 192,
   "id": "de36bf9f",
   "metadata": {},
   "outputs": [
    {
     "data": {
      "text/plain": [
       "(14473, 15)"
      ]
     },
     "execution_count": 192,
     "metadata": {},
     "output_type": "execute_result"
    }
   ],
   "source": [
    "year.shape"
   ]
  },
  {
   "cell_type": "code",
   "execution_count": 193,
   "id": "30bcf43a",
   "metadata": {},
   "outputs": [],
   "source": [
    "# Since I do not want to fill average values for 40% of data, I dropped all na values for 'Critic_Score')\n",
    "year = year.dropna(subset = ['Critic_Score'])"
   ]
  },
  {
   "cell_type": "code",
   "execution_count": 194,
   "id": "90333566",
   "metadata": {},
   "outputs": [
    {
     "data": {
      "text/html": [
       "<div>\n",
       "<style scoped>\n",
       "    .dataframe tbody tr th:only-of-type {\n",
       "        vertical-align: middle;\n",
       "    }\n",
       "\n",
       "    .dataframe tbody tr th {\n",
       "        vertical-align: top;\n",
       "    }\n",
       "\n",
       "    .dataframe thead th {\n",
       "        text-align: right;\n",
       "    }\n",
       "</style>\n",
       "<table border=\"1\" class=\"dataframe\">\n",
       "  <thead>\n",
       "    <tr style=\"text-align: right;\">\n",
       "      <th></th>\n",
       "      <th>Missing Ratio</th>\n",
       "    </tr>\n",
       "  </thead>\n",
       "  <tbody>\n",
       "    <tr>\n",
       "      <th>User_Count</th>\n",
       "      <td>6.430195</td>\n",
       "    </tr>\n",
       "    <tr>\n",
       "      <th>Rating</th>\n",
       "      <td>0.466563</td>\n",
       "    </tr>\n",
       "    <tr>\n",
       "      <th>User_Score</th>\n",
       "      <td>0.155521</td>\n",
       "    </tr>\n",
       "    <tr>\n",
       "      <th>Publisher</th>\n",
       "      <td>0.005982</td>\n",
       "    </tr>\n",
       "  </tbody>\n",
       "</table>\n",
       "</div>"
      ],
      "text/plain": [
       "            Missing Ratio\n",
       "User_Count       6.430195\n",
       "Rating           0.466563\n",
       "User_Score       0.155521\n",
       "Publisher        0.005982"
      ]
     },
     "execution_count": 194,
     "metadata": {},
     "output_type": "execute_result"
    }
   ],
   "source": [
    "count = (year.isnull().sum() / len(df)) * 100\n",
    "count = count.drop(count[count == 0].index).sort_values(ascending=False)[:30]\n",
    "missing_data = pd.DataFrame({'Missing Ratio' :count})\n",
    "missing_data.head(20)"
   ]
  },
  {
   "cell_type": "code",
   "execution_count": 195,
   "id": "051d8ca5",
   "metadata": {},
   "outputs": [
    {
     "data": {
      "text/plain": [
       "(7886, 15)"
      ]
     },
     "execution_count": 195,
     "metadata": {},
     "output_type": "execute_result"
    }
   ],
   "source": [
    "year.shape"
   ]
  },
  {
   "cell_type": "code",
   "execution_count": 196,
   "id": "66c28039",
   "metadata": {},
   "outputs": [],
   "source": [
    "# changing value to none\n",
    "year['User_Score'] = year['User_Score'].replace('tbd', None)"
   ]
  },
  {
   "cell_type": "code",
   "execution_count": 197,
   "id": "413d289e",
   "metadata": {},
   "outputs": [],
   "source": [
    "# Filling missing values with mode\n",
    "year['User_Count'] = year['User_Count'].fillna(year['User_Count'].mode()[0])\n",
    "year['Rating'] = year['Rating'].fillna(year['Rating'].mode()[0])\n",
    "year['User_Score'] = year['User_Score'].fillna(year['User_Score'].mode()[0])\n",
    "year['Publisher'] = year['Publisher'].fillna(year['Publisher'].mode()[0])"
   ]
  },
  {
   "cell_type": "code",
   "execution_count": 198,
   "id": "e475ef60",
   "metadata": {},
   "outputs": [
    {
     "data": {
      "text/html": [
       "<div>\n",
       "<style scoped>\n",
       "    .dataframe tbody tr th:only-of-type {\n",
       "        vertical-align: middle;\n",
       "    }\n",
       "\n",
       "    .dataframe tbody tr th {\n",
       "        vertical-align: top;\n",
       "    }\n",
       "\n",
       "    .dataframe thead th {\n",
       "        text-align: right;\n",
       "    }\n",
       "</style>\n",
       "<table border=\"1\" class=\"dataframe\">\n",
       "  <thead>\n",
       "    <tr style=\"text-align: right;\">\n",
       "      <th></th>\n",
       "      <th>Missing Ratio</th>\n",
       "    </tr>\n",
       "  </thead>\n",
       "  <tbody>\n",
       "  </tbody>\n",
       "</table>\n",
       "</div>"
      ],
      "text/plain": [
       "Empty DataFrame\n",
       "Columns: [Missing Ratio]\n",
       "Index: []"
      ]
     },
     "execution_count": 198,
     "metadata": {},
     "output_type": "execute_result"
    }
   ],
   "source": [
    "# All na values are filled in the model dataset\n",
    "count = (year.isnull().sum() / len(df)) * 100\n",
    "count = count.drop(count[count == 0].index).sort_values(ascending=False)[:30]\n",
    "missing_data = pd.DataFrame({'Missing Ratio' :count})\n",
    "missing_data.head(20)"
   ]
  },
  {
   "cell_type": "code",
   "execution_count": 199,
   "id": "5ae48fd9",
   "metadata": {},
   "outputs": [
    {
     "data": {
      "text/plain": [
       "(7886, 15)"
      ]
     },
     "execution_count": 199,
     "metadata": {},
     "output_type": "execute_result"
    }
   ],
   "source": [
    "year.shape"
   ]
  },
  {
   "cell_type": "code",
   "execution_count": 200,
   "id": "f30a8827",
   "metadata": {},
   "outputs": [],
   "source": [
    "# Getting dummies\n",
    "year = pd.get_dummies(data = year, columns=['Platform', 'Genre', 'Rating'])"
   ]
  },
  {
   "cell_type": "code",
   "execution_count": 201,
   "id": "d062a7b3",
   "metadata": {},
   "outputs": [
    {
     "data": {
      "text/html": [
       "<div>\n",
       "<style scoped>\n",
       "    .dataframe tbody tr th:only-of-type {\n",
       "        vertical-align: middle;\n",
       "    }\n",
       "\n",
       "    .dataframe tbody tr th {\n",
       "        vertical-align: top;\n",
       "    }\n",
       "\n",
       "    .dataframe thead th {\n",
       "        text-align: right;\n",
       "    }\n",
       "</style>\n",
       "<table border=\"1\" class=\"dataframe\">\n",
       "  <thead>\n",
       "    <tr style=\"text-align: right;\">\n",
       "      <th></th>\n",
       "      <th>Name</th>\n",
       "      <th>Year_of_Release</th>\n",
       "      <th>Publisher</th>\n",
       "      <th>NA_Sales</th>\n",
       "      <th>EU_Sales</th>\n",
       "      <th>JP_Sales</th>\n",
       "      <th>Other_Sales</th>\n",
       "      <th>Global_Sales</th>\n",
       "      <th>Critic_Score</th>\n",
       "      <th>Critic_Count</th>\n",
       "      <th>...</th>\n",
       "      <th>Genre_Shooter</th>\n",
       "      <th>Genre_Simulation</th>\n",
       "      <th>Genre_Sports</th>\n",
       "      <th>Genre_Strategy</th>\n",
       "      <th>Rating_AO</th>\n",
       "      <th>Rating_E</th>\n",
       "      <th>Rating_E10+</th>\n",
       "      <th>Rating_M</th>\n",
       "      <th>Rating_RP</th>\n",
       "      <th>Rating_T</th>\n",
       "    </tr>\n",
       "  </thead>\n",
       "  <tbody>\n",
       "    <tr>\n",
       "      <th>2</th>\n",
       "      <td>Mario Kart Wii</td>\n",
       "      <td>2008.0</td>\n",
       "      <td>Nintendo</td>\n",
       "      <td>15.68</td>\n",
       "      <td>12.76</td>\n",
       "      <td>3.79</td>\n",
       "      <td>3.29</td>\n",
       "      <td>35.52</td>\n",
       "      <td>82.0</td>\n",
       "      <td>73.0</td>\n",
       "      <td>...</td>\n",
       "      <td>0</td>\n",
       "      <td>0</td>\n",
       "      <td>0</td>\n",
       "      <td>0</td>\n",
       "      <td>0</td>\n",
       "      <td>1</td>\n",
       "      <td>0</td>\n",
       "      <td>0</td>\n",
       "      <td>0</td>\n",
       "      <td>0</td>\n",
       "    </tr>\n",
       "    <tr>\n",
       "      <th>3</th>\n",
       "      <td>Wii Sports Resort</td>\n",
       "      <td>2009.0</td>\n",
       "      <td>Nintendo</td>\n",
       "      <td>15.61</td>\n",
       "      <td>10.93</td>\n",
       "      <td>3.28</td>\n",
       "      <td>2.95</td>\n",
       "      <td>32.77</td>\n",
       "      <td>80.0</td>\n",
       "      <td>73.0</td>\n",
       "      <td>...</td>\n",
       "      <td>0</td>\n",
       "      <td>0</td>\n",
       "      <td>1</td>\n",
       "      <td>0</td>\n",
       "      <td>0</td>\n",
       "      <td>1</td>\n",
       "      <td>0</td>\n",
       "      <td>0</td>\n",
       "      <td>0</td>\n",
       "      <td>0</td>\n",
       "    </tr>\n",
       "    <tr>\n",
       "      <th>6</th>\n",
       "      <td>New Super Mario Bros.</td>\n",
       "      <td>2006.0</td>\n",
       "      <td>Nintendo</td>\n",
       "      <td>11.28</td>\n",
       "      <td>9.14</td>\n",
       "      <td>6.50</td>\n",
       "      <td>2.88</td>\n",
       "      <td>29.80</td>\n",
       "      <td>89.0</td>\n",
       "      <td>65.0</td>\n",
       "      <td>...</td>\n",
       "      <td>0</td>\n",
       "      <td>0</td>\n",
       "      <td>0</td>\n",
       "      <td>0</td>\n",
       "      <td>0</td>\n",
       "      <td>1</td>\n",
       "      <td>0</td>\n",
       "      <td>0</td>\n",
       "      <td>0</td>\n",
       "      <td>0</td>\n",
       "    </tr>\n",
       "    <tr>\n",
       "      <th>7</th>\n",
       "      <td>Wii Play</td>\n",
       "      <td>2006.0</td>\n",
       "      <td>Nintendo</td>\n",
       "      <td>13.96</td>\n",
       "      <td>9.18</td>\n",
       "      <td>2.93</td>\n",
       "      <td>2.84</td>\n",
       "      <td>28.92</td>\n",
       "      <td>58.0</td>\n",
       "      <td>41.0</td>\n",
       "      <td>...</td>\n",
       "      <td>0</td>\n",
       "      <td>0</td>\n",
       "      <td>0</td>\n",
       "      <td>0</td>\n",
       "      <td>0</td>\n",
       "      <td>1</td>\n",
       "      <td>0</td>\n",
       "      <td>0</td>\n",
       "      <td>0</td>\n",
       "      <td>0</td>\n",
       "    </tr>\n",
       "    <tr>\n",
       "      <th>8</th>\n",
       "      <td>New Super Mario Bros. Wii</td>\n",
       "      <td>2009.0</td>\n",
       "      <td>Nintendo</td>\n",
       "      <td>14.44</td>\n",
       "      <td>6.94</td>\n",
       "      <td>4.70</td>\n",
       "      <td>2.24</td>\n",
       "      <td>28.32</td>\n",
       "      <td>87.0</td>\n",
       "      <td>80.0</td>\n",
       "      <td>...</td>\n",
       "      <td>0</td>\n",
       "      <td>0</td>\n",
       "      <td>0</td>\n",
       "      <td>0</td>\n",
       "      <td>0</td>\n",
       "      <td>1</td>\n",
       "      <td>0</td>\n",
       "      <td>0</td>\n",
       "      <td>0</td>\n",
       "      <td>0</td>\n",
       "    </tr>\n",
       "  </tbody>\n",
       "</table>\n",
       "<p>5 rows × 47 columns</p>\n",
       "</div>"
      ],
      "text/plain": [
       "                        Name  Year_of_Release Publisher  NA_Sales  EU_Sales  \\\n",
       "2             Mario Kart Wii           2008.0  Nintendo     15.68     12.76   \n",
       "3          Wii Sports Resort           2009.0  Nintendo     15.61     10.93   \n",
       "6      New Super Mario Bros.           2006.0  Nintendo     11.28      9.14   \n",
       "7                   Wii Play           2006.0  Nintendo     13.96      9.18   \n",
       "8  New Super Mario Bros. Wii           2009.0  Nintendo     14.44      6.94   \n",
       "\n",
       "   JP_Sales  Other_Sales  Global_Sales  Critic_Score  Critic_Count  ...  \\\n",
       "2      3.79         3.29         35.52          82.0          73.0  ...   \n",
       "3      3.28         2.95         32.77          80.0          73.0  ...   \n",
       "6      6.50         2.88         29.80          89.0          65.0  ...   \n",
       "7      2.93         2.84         28.92          58.0          41.0  ...   \n",
       "8      4.70         2.24         28.32          87.0          80.0  ...   \n",
       "\n",
       "  Genre_Shooter  Genre_Simulation  Genre_Sports  Genre_Strategy  Rating_AO  \\\n",
       "2             0                 0             0               0          0   \n",
       "3             0                 0             1               0          0   \n",
       "6             0                 0             0               0          0   \n",
       "7             0                 0             0               0          0   \n",
       "8             0                 0             0               0          0   \n",
       "\n",
       "   Rating_E  Rating_E10+  Rating_M  Rating_RP  Rating_T  \n",
       "2         1            0         0          0         0  \n",
       "3         1            0         0          0         0  \n",
       "6         1            0         0          0         0  \n",
       "7         1            0         0          0         0  \n",
       "8         1            0         0          0         0  \n",
       "\n",
       "[5 rows x 47 columns]"
      ]
     },
     "execution_count": 201,
     "metadata": {},
     "output_type": "execute_result"
    }
   ],
   "source": [
    "year.head()"
   ]
  },
  {
   "cell_type": "code",
   "execution_count": 202,
   "id": "896a2626",
   "metadata": {},
   "outputs": [
    {
     "data": {
      "text/plain": [
       "Index(['Name', 'Year_of_Release', 'Publisher', 'NA_Sales', 'EU_Sales',\n",
       "       'JP_Sales', 'Other_Sales', 'Global_Sales', 'Critic_Score',\n",
       "       'Critic_Count', 'User_Score', 'User_Count', 'Platform_3DS',\n",
       "       'Platform_DC', 'Platform_DS', 'Platform_GBA', 'Platform_GC',\n",
       "       'Platform_PC', 'Platform_PS', 'Platform_PS2', 'Platform_PS3',\n",
       "       'Platform_PS4', 'Platform_PSP', 'Platform_PSV', 'Platform_Wii',\n",
       "       'Platform_WiiU', 'Platform_X360', 'Platform_XB', 'Platform_XOne',\n",
       "       'Genre_Action', 'Genre_Adventure', 'Genre_Fighting', 'Genre_Misc',\n",
       "       'Genre_Platform', 'Genre_Puzzle', 'Genre_Racing', 'Genre_Role-Playing',\n",
       "       'Genre_Shooter', 'Genre_Simulation', 'Genre_Sports', 'Genre_Strategy',\n",
       "       'Rating_AO', 'Rating_E', 'Rating_E10+', 'Rating_M', 'Rating_RP',\n",
       "       'Rating_T'],\n",
       "      dtype='object')"
      ]
     },
     "execution_count": 202,
     "metadata": {},
     "output_type": "execute_result"
    }
   ],
   "source": [
    "year.columns"
   ]
  },
  {
   "cell_type": "code",
   "execution_count": 203,
   "id": "b197ec71",
   "metadata": {},
   "outputs": [],
   "source": [
    "# dropping columns that we don't need for the model\n",
    "year = year.drop(['Name', 'Publisher', 'NA_Sales', 'EU_Sales', 'JP_Sales', 'Other_Sales'], axis = 1)"
   ]
  },
  {
   "cell_type": "code",
   "execution_count": 204,
   "id": "bed9f85a",
   "metadata": {},
   "outputs": [
    {
     "data": {
      "text/plain": [
       "(7886, 41)"
      ]
     },
     "execution_count": 204,
     "metadata": {},
     "output_type": "execute_result"
    }
   ],
   "source": [
    "year.shape"
   ]
  },
  {
   "cell_type": "code",
   "execution_count": 238,
   "id": "da11d053",
   "metadata": {},
   "outputs": [],
   "source": [
    "# defining variables for model\n",
    "X = year[['Year_of_Release', 'Critic_Score',\n",
    "       'Critic_Count', 'User_Score', 'User_Count', 'Platform_3DS',\n",
    "       'Platform_DC', 'Platform_DS', 'Platform_GBA', 'Platform_GC',\n",
    "       'Platform_PC', 'Platform_PS', 'Platform_PS2', 'Platform_PS3',\n",
    "       'Platform_PS4', 'Platform_PSP', 'Platform_PSV', 'Platform_Wii',\n",
    "       'Platform_WiiU', 'Platform_X360', 'Platform_XB', 'Platform_XOne',\n",
    "       'Genre_Action', 'Genre_Adventure', 'Genre_Fighting', 'Genre_Misc',\n",
    "       'Genre_Platform', 'Genre_Puzzle', 'Genre_Racing', 'Genre_Role-Playing',\n",
    "       'Genre_Shooter', 'Genre_Simulation', 'Genre_Sports', 'Genre_Strategy',\n",
    "       'Rating_AO', 'Rating_E', 'Rating_E10+', 'Rating_M', 'Rating_RP',\n",
    "       'Rating_T']]\n",
    "\n",
    "y = year[['Global_Sales']]"
   ]
  },
  {
   "cell_type": "code",
   "execution_count": 239,
   "id": "969dc4bb",
   "metadata": {},
   "outputs": [],
   "source": [
    "# Train test split\n",
    "from sklearn.model_selection import train_test_split\n",
    "X_train, X_test, y_train, y_test = train_test_split(X, y, test_size = 0.2, random_state = 42)"
   ]
  },
  {
   "cell_type": "code",
   "execution_count": 241,
   "id": "b9055416",
   "metadata": {},
   "outputs": [],
   "source": [
    "# Used the log function to help transform the data and have it be more evenly distributed\n",
    "#We use the numpy fuction log1p which  applies log(1+x) to all elements of the column \n",
    "y_train = np.log1p(y_train)\n",
    "y_test = np.log1p(y_test)"
   ]
  },
  {
   "cell_type": "code",
   "execution_count": 245,
   "id": "99795aab",
   "metadata": {},
   "outputs": [
    {
     "name": "stdout",
     "output_type": "stream",
     "text": [
      "\n",
      " mu = 0.28 and sigma = 0.26\n",
      "\n"
     ]
    },
    {
     "data": {
      "image/png": "[encoded data removed]",
      "text/plain": [
       "<Figure size 936x432 with 1 Axes>"
      ]
     },
     "metadata": {},
     "output_type": "display_data"
    },
    {
     "data": {
      "image/png": "[encoded data removed]",
      "text/plain": [
       "<Figure size 936x432 with 1 Axes>"
      ]
     },
     "metadata": {},
     "output_type": "display_data"
    }
   ],
   "source": [
    "import numpy as np\n",
    "year['Global_Sales'] = np.log1p(year[\"Global_Sales\"])\n",
    "\n",
    "sns.distplot(year['Global_Sales'] , fit=norm);\n",
    "\n",
    "# Get the fitted parameters used by the function\n",
    "(mu, sigma) = norm.fit(year['Global_Sales'])\n",
    "print( '\\n mu = {:.2f} and sigma = {:.2f}\\n'.format(mu, sigma))\n",
    "\n",
    "#Now plot the distribution\n",
    "plt.legend(['Normal dist. ($\\mu=$ {:.2f} and $\\sigma=$ {:.2f} )'.format(mu, sigma)],\n",
    "            loc='best')\n",
    "plt.ylabel('Frequency')\n",
    "plt.title('GlobalSales distribution')\n",
    "sns.set(rc = {'figure.figsize':(13,6)})\n",
    "\n",
    "\n",
    "#Get also the QQ-plot\n",
    "fig = plt.figure()\n",
    "res = stats.probplot(year['Global_Sales'], plot=plt)\n",
    "plt.show()"
   ]
  },
  {
   "cell_type": "code",
   "execution_count": 282,
   "id": "a21dbabf",
   "metadata": {},
   "outputs": [
    {
     "name": "stdout",
     "output_type": "stream",
     "text": [
      "Avg cross-validation score: -0.2284\n",
      "Test set score: 0.4178\n"
     ]
    }
   ],
   "source": [
    "# multiple linear regression (NMAE)\n",
    "from sklearn.linear_model import LinearRegression, Lasso\n",
    "from sklearn.model_selection import cross_val_score\n",
    "\n",
    "lm = LinearRegression()\n",
    "lm.fit(X_train, y_train)\n",
    "\n",
    "lm_avg = np.mean(cross_val_score(lm, X_train, y_train, scoring = \"neg_mean_absolute_error\", cv = 3))\n",
    "\n",
    "print(\"Avg cross-validation score: {:.4f}\".format(lm_avg))\n",
    "lm_score = lm.score(X_test, y_test)\n",
    "print(\"Test set score: {:.4f}\".format(lm_score))"
   ]
  },
  {
   "cell_type": "code",
   "execution_count": 283,
   "id": "911685b5",
   "metadata": {},
   "outputs": [
    {
     "data": {
      "text/plain": [
       "-0.228406589895248"
      ]
     },
     "execution_count": 283,
     "metadata": {},
     "output_type": "execute_result"
    }
   ],
   "source": [
    "lm_avg"
   ]
  },
  {
   "cell_type": "code",
   "execution_count": 254,
   "id": "a3153c0d",
   "metadata": {},
   "outputs": [
    {
     "data": {
      "text/plain": [
       "-0.2554518734695685"
      ]
     },
     "execution_count": 254,
     "metadata": {},
     "output_type": "execute_result"
    }
   ],
   "source": [
    "# Lasso (NMAE)\n",
    "lm_l = Lasso()\n",
    "lm_l.fit(X_train, y_train)\n",
    "np.mean(cross_val_score(lm_l, X_train, y_train, scoring = \"neg_mean_absolute_error\", cv = 3))"
   ]
  },
  {
   "cell_type": "code",
   "execution_count": 249,
   "id": "695e7e2e",
   "metadata": {},
   "outputs": [
    {
     "data": {
      "text/plain": [
       "-0.1868165793481266"
      ]
     },
     "execution_count": 249,
     "metadata": {},
     "output_type": "execute_result"
    }
   ],
   "source": [
    "# random forest regressor (NMAE)\n",
    "from sklearn.ensemble import RandomForestRegressor\n",
    "rf = RandomForestRegressor()\n",
    "np.mean(cross_val_score(rf, X_train, y_train, scoring = \"neg_mean_absolute_error\", cv = 3))"
   ]
  },
  {
   "cell_type": "code",
   "execution_count": 256,
   "id": "02763aa7",
   "metadata": {
    "scrolled": true
   },
   "outputs": [
    {
     "data": {
      "text/plain": [
       "RandomForestRegressor(n_estimators=80)"
      ]
     },
     "execution_count": 256,
     "metadata": {},
     "output_type": "execute_result"
    }
   ],
   "source": [
    "# tuning models with gridsearch cv\n",
    "from sklearn.model_selection import GridSearchCV\n",
    "parameters = {'n_estimators': range(10, 100, 10), 'criterion': ('mse', 'mae'), 'max_features': ('auto', 'sqrt', 'log2')}\n",
    "\n",
    "gs = GridSearchCV(rf, parameters, scoring = 'neg_mean_absolute_error', cv = 3)\n",
    "gs.fit(X_train, y_train)\n",
    "\n",
    "gs.best_score_\n",
    "gs.best_estimator_"
   ]
  },
  {
   "cell_type": "code",
   "execution_count": 257,
   "id": "8788e628",
   "metadata": {},
   "outputs": [
    {
     "data": {
      "text/plain": [
       "-0.18596573376371625"
      ]
     },
     "execution_count": 257,
     "metadata": {},
     "output_type": "execute_result"
    }
   ],
   "source": [
    "# gs random forest regressor ^ (improved a little bit)\n",
    "gs.best_score_"
   ]
  },
  {
   "cell_type": "code",
   "execution_count": 260,
   "id": "7ef6132a",
   "metadata": {},
   "outputs": [
    {
     "data": {
      "text/plain": [
       "0.2359958921424557"
      ]
     },
     "execution_count": 260,
     "metadata": {},
     "output_type": "execute_result"
    }
   ],
   "source": [
    "# test ensembles\n",
    "tpred_lm = lm.predict(X_test)\n",
    "tpred_lml = lm_l.predict(X_test)\n",
    "tpred_rf = gs.best_estimator_.predict(X_test)\n",
    "\n",
    "from sklearn.metrics import mean_absolute_error\n",
    "mean_absolute_error(y_test, tpred_lm)"
   ]
  },
  {
   "cell_type": "code",
   "execution_count": 261,
   "id": "7982b5ca",
   "metadata": {},
   "outputs": [
    {
     "data": {
      "text/plain": [
       "0.183671909446875"
      ]
     },
     "execution_count": 261,
     "metadata": {},
     "output_type": "execute_result"
    }
   ],
   "source": [
    "mean_absolute_error(y_test, tpred_rf)"
   ]
  },
  {
   "cell_type": "code",
   "execution_count": 262,
   "id": "b563788d",
   "metadata": {},
   "outputs": [
    {
     "data": {
      "text/plain": [
       "0.2676694196118004"
      ]
     },
     "execution_count": 262,
     "metadata": {},
     "output_type": "execute_result"
    }
   ],
   "source": [
    "mean_absolute_error(y_test, tpred_lml)"
   ]
  },
  {
   "cell_type": "code",
   "execution_count": 280,
   "id": "4e96c519",
   "metadata": {},
   "outputs": [
    {
     "name": "stdout",
     "output_type": "stream",
     "text": [
      "Best parameters: {'alpha': 0.001, 'max_iter': 1000000}\n",
      "Best cross-validation score: -0.2280\n",
      "Test set score: -0.2357\n"
     ]
    }
   ],
   "source": [
    "# improving Lasso with gridsearchCV \n",
    "from sklearn.linear_model import Lasso\n",
    "from sklearn.model_selection import GridSearchCV\n",
    "\n",
    "parameter = [\n",
    "    {'alpha': [10, 1, 0.1, 0.01, 0.001, 0.0001], 'max_iter': [1000000, 100000, 10000, 1000]}\n",
    "]\n",
    "\n",
    "gs_lasso = GridSearchCV(lm_l, parameter, scoring='neg_mean_absolute_error', cv = 3)\n",
    "gs_lasso.fit(X_train, y_train)\n",
    "print(\"Best parameters: {}\".format(gs_lasso.best_params_))\n",
    "lasso_best_cross_val_score = gs_lasso.best_score_\n",
    "print(\"Best cross-validation score: {:.4f}\".format(lasso_best_cross_val_score))\n",
    "lasso_score = gs_lasso.score(X_test, y_test)\n",
    "print(\"Test set score: {:.4f}\".format(lasso_score))"
   ]
  },
  {
   "cell_type": "code",
   "execution_count": 274,
   "id": "445ba03a",
   "metadata": {},
   "outputs": [
    {
     "data": {
      "text/plain": [
       "-0.22796031095336955"
      ]
     },
     "execution_count": 274,
     "metadata": {},
     "output_type": "execute_result"
    }
   ],
   "source": [
    "# gs lasso ^ (previous was -.25545) \n",
    "gs_lasso.best_score_"
   ]
  },
  {
   "cell_type": "code",
   "execution_count": 275,
   "id": "452f71d5",
   "metadata": {},
   "outputs": [
    {
     "data": {
      "text/plain": [
       "-0.23574531828780865"
      ]
     },
     "execution_count": 275,
     "metadata": {},
     "output_type": "execute_result"
    }
   ],
   "source": [
    "# gs lasso ^\n",
    "gs_lasso.score(X_test, y_test)"
   ]
  },
  {
   "cell_type": "code",
   "execution_count": 290,
   "id": "fa01dbe0",
   "metadata": {},
   "outputs": [
    {
     "data": {
      "text/plain": [
       "-0.1880489431452003"
      ]
     },
     "execution_count": 290,
     "metadata": {},
     "output_type": "execute_result"
    }
   ],
   "source": [
    "# Gradient Boosting Regressor (NMAE)\n",
    "from sklearn.ensemble import GradientBoostingRegressor\n",
    "gbr = GradientBoostingRegressor()\n",
    "gbr.fit(X_train, y_train)\n",
    "np.mean(cross_val_score(gbr, X_train, y_train, scoring = \"neg_mean_absolute_error\", cv = 3))"
   ]
  },
  {
   "cell_type": "code",
   "execution_count": 291,
   "id": "2e78e810",
   "metadata": {},
   "outputs": [
    {
     "name": "stdout",
     "output_type": "stream",
     "text": [
      "Best parameters: {'max_depth': 7, 'max_features': 10, 'n_estimators': 90}\n",
      "Best cross-validation score: -0.1791\n",
      "Test set score: -0.1805\n"
     ]
    }
   ],
   "source": [
    "# Gradient Boosting Regressor\n",
    "from sklearn.ensemble import GradientBoostingRegressor\n",
    "\n",
    "parameter = [\n",
    "    {'n_estimators': [200, 225, 250, 275], 'max_features': [6, 8, 10, 12], 'max_depth': [5, 7, 9]}\n",
    "]\n",
    "\n",
    "gs_gbr = GridSearchCV(GradientBoostingRegressor(), parameter, scoring='neg_mean_absolute_error', cv = 3)\n",
    "gs_gbr.fit(X_train, y_train)\n",
    "print(\"Best parameters: {}\".format(gs_gbr.best_params_))\n",
    "gbr_best_cross_val_score = gs_gbr.best_score_\n",
    "print(\"Best cross-validation score: {:.4f}\".format(gbr_best_cross_val_score))\n",
    "gbr_score = gs_gbr.score(X_test, y_test)\n",
    "print(\"Test set score: {:.4f}\".format(gbr_score))"
   ]
  },
  {
   "cell_type": "code",
   "execution_count": 277,
   "id": "ad57a8df",
   "metadata": {},
   "outputs": [
    {
     "data": {
      "text/plain": [
       "-0.17824938361915313"
      ]
     },
     "execution_count": 277,
     "metadata": {},
     "output_type": "execute_result"
    }
   ],
   "source": [
    "# gs gradient boosting regressor ^\n",
    "gs_gbr.best_score_"
   ]
  },
  {
   "cell_type": "code",
   "execution_count": 278,
   "id": "3e9b0a7a",
   "metadata": {},
   "outputs": [
    {
     "data": {
      "text/plain": [
       "-0.1803608521226399"
      ]
     },
     "execution_count": 278,
     "metadata": {},
     "output_type": "execute_result"
    }
   ],
   "source": [
    "# gs gradient boosting regressor ^\n",
    "gs_gbr.score(X_test, y_test)"
   ]
  },
  {
   "cell_type": "code",
   "execution_count": 292,
   "id": "81bed8f2",
   "metadata": {},
   "outputs": [
    {
     "name": "stdout",
     "output_type": "stream",
     "text": [
      "Best parameters: {'criterion': 'mae', 'max_features': 'auto', 'n_estimators': 90}\n",
      "Best cross-validation score: -0.1843\n",
      "Test set score: -0.1899\n"
     ]
    }
   ],
   "source": [
    "# Gradient Boosting Regressor (changing the parameters, the same paramters from rf gridsearchCV above ^)\n",
    "from sklearn.ensemble import GradientBoostingRegressor\n",
    "\n",
    "parameter = {'n_estimators': range(10, 100, 10), 'criterion': ('mse', 'mae'), 'max_features': ('auto', 'sqrt', 'log2')}\n",
    "\n",
    "gs_gbr = GridSearchCV(GradientBoostingRegressor(), parameter, scoring='neg_mean_absolute_error', cv = 3)\n",
    "gs_gbr.fit(X_train, y_train)\n",
    "print(\"Best parameters: {}\".format(gs_gbr.best_params_))\n",
    "gbr_best_cross_val_score = gs_gbr.best_score_\n",
    "print(\"Best cross-validation score: {:.4f}\".format(gbr_best_cross_val_score))\n",
    "gbr_score = gs_gbr.score(X_test, y_test)\n",
    "print(\"Test set score: {:.4f}\".format(gbr_score))"
   ]
  }
 ],
 "metadata": {
  "kernelspec": {
   "display_name": "Python 3 (ipykernel)",
   "language": "python",
   "name": "python3"
  },
  "language_info": {
   "codemirror_mode": {
    "name": "ipython",
    "version": 3
   },
   "file_extension": ".py",
   "mimetype": "text/x-python",
   "name": "python",
   "nbconvert_exporter": "python",
   "pygments_lexer": "ipython3",
   "version": "3.9.7"
  }
 },
 "nbformat": 4,
 "nbformat_minor": 5
}
